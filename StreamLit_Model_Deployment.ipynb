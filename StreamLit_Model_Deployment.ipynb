{
  "nbformat": 4,
  "nbformat_minor": 0,
  "metadata": {
    "colab": {
      "name": "StreamLit_Model_Deployment.ipynb",
      "provenance": []
    },
    "kernelspec": {
      "name": "python3",
      "display_name": "Python 3"
    },
    "language_info": {
      "name": "python"
    }
  },
  "cells": [
    {
      "cell_type": "markdown",
      "metadata": {
        "id": "juO8Kex6tVJ1"
      },
      "source": [
        "### **The Following IPython script is for deploying the DeepGlobe Image segmentation models using StreamLit and exposing it to external IP adress using ngrok. All 3 models are used for segmentation, and using an ensemble combination for prediction** "
      ]
    },
    {
      "cell_type": "markdown",
      "metadata": {
        "id": "ri4FDwhOGZre"
      },
      "source": [
        "#### **(1) Installing the necessary packages**"
      ]
    },
    {
      "cell_type": "code",
      "metadata": {
        "id": "YG00y16AE24r"
      },
      "source": [
        "!pip install streamlit"
      ],
      "execution_count": null,
      "outputs": []
    },
    {
      "cell_type": "code",
      "metadata": {
        "colab": {
          "base_uri": "https://localhost:8080/"
        },
        "id": "n-PDMcrlF6Q2",
        "outputId": "f6f87ab6-8633-4d38-c921-6ae942bb6478"
      },
      "source": [
        "!pip install pyngrok==4.1.1"
      ],
      "execution_count": 12,
      "outputs": [
        {
          "output_type": "stream",
          "text": [
            "Collecting pyngrok\n",
            "  Downloading pyngrok-5.0.6.tar.gz (746 kB)\n",
            "\u001b[K     |████████████████████████████████| 746 kB 3.6 MB/s \n",
            "\u001b[?25hRequirement already satisfied: PyYAML in /usr/local/lib/python3.7/dist-packages (from pyngrok) (3.13)\n",
            "Building wheels for collected packages: pyngrok\n",
            "  Building wheel for pyngrok (setup.py) ... \u001b[?25l\u001b[?25hdone\n",
            "  Created wheel for pyngrok: filename=pyngrok-5.0.6-py3-none-any.whl size=19263 sha256=d30e158529d76f845eec70a0829660c1f32a61a595d017485bfa8c38ebcc22e0\n",
            "  Stored in directory: /root/.cache/pip/wheels/d5/8c/c4/8d9cbca4fa19bf64887b4a91914194bb9033f1a7cbb344d5ab\n",
            "Successfully built pyngrok\n",
            "Installing collected packages: pyngrok\n",
            "Successfully installed pyngrok-5.0.6\n"
          ],
          "name": "stdout"
        }
      ]
    },
    {
      "cell_type": "markdown",
      "metadata": {
        "id": "75aQPcxWHCRZ"
      },
      "source": [
        "#### **(2) Creating the web app using streamlit based API, and saving it in form of app.py**  "
      ]
    },
    {
      "cell_type": "code",
      "metadata": {
        "colab": {
          "base_uri": "https://localhost:8080/"
        },
        "id": "ofYYwrd5G_pZ",
        "outputId": "89ba7835-08d4-4aa7-a7f8-e4374f7b6a3a"
      },
      "source": [
        "%%writefile app.py\n",
        "\n",
        "# Installing necessary packages\n",
        "import streamlit as st\n",
        "import tensorflow as tf\n",
        "import numpy as np\n",
        "from PIL import Image, ImageOps\n",
        "from tensorflow.keras.models import load_model\n",
        "from tensorflow.keras.preprocessing.image import load_img\n",
        "from tensorflow.keras.preprocessing.image import img_to_array\n",
        "\n",
        "# Pixel list is the list of actual 3D pixels on which the class predictions have to be mapped to\n",
        "pixel_list = [(0,0,0), (255,255,0), (255,0,255), (0,255,0), (0,0,255), (255,255,255), (0,255,255)]\n",
        "\n",
        "# To Avoid Warning\n",
        "st.set_option('deprecation.showfileUploaderEncoding', False)\n",
        "\n",
        "st.title(\"DeepGlobe Landcover classification\")\n",
        "\n",
        "st.text(\"Upload an image\")\n",
        "\n",
        "# Storing the Models in Cache memory allows to avoid reloading the model agin and again\n",
        "@st.cache(allow_output_mutation=True)\n",
        "def load_models():\n",
        "  model1 = load_model('/content/drive/MyDrive/vgg16_backbone.hdf5', compile=False)\n",
        "  model2 = load_model('/content/drive/MyDrive/res34_backbone.hdf5', compile=False)\n",
        "  model3 = load_model('/content/drive/MyDrive/incep_backbone.hdf5', compile=False)\n",
        "  return model1, model2, model3\n",
        "\n",
        "model1, model2, model3 = load_models()\n",
        "\n",
        "# Defining the Prediction Function for the main segmentation\n",
        "def predict_from_models(image1, model1, model2, model3):\n",
        "  size = (512, 512)\n",
        "\n",
        "  # (1)... Image Preprocessing\n",
        "  image = ImageOps.fit(image1, size, Image.ANTIALIAS)\n",
        "  image = np.asarray(image)\n",
        "  image = image/255.0\n",
        "  image = image[np.newaxis, ...]\n",
        "  \n",
        "  # (2) Model prediction\n",
        "  predict1 = model1.predict(image)\n",
        "  predict2 = model2.predict(image)\n",
        "  predict3 = model3.predict(image)\n",
        "\n",
        "  # (3) Image Reprocessing\n",
        "  pred = np.squeeze((0.3 * predict1) + (0.2 * predict2) + (0.2 * predict3), axis=0)\n",
        "  weighted_ensemble = np.argmax(pred, axis=-1)\n",
        "\n",
        "  return weighted_ensemble\n",
        "\n",
        "# Creating an UploadFile object to make predictions\n",
        "file_up = st.file_uploader(\"Please Upload a Satellite Image\", type=['jpg', 'png'])\n",
        "\n",
        "\n",
        "if file_up is None:\n",
        "  st.text(\"Please upload an image !!\") \n",
        "else:\n",
        "  image = Image.open(file_up)\n",
        "  st.image(image, caption='Uploaded Image')\n",
        "  st.write(\"Predicting...\")\n",
        "  output_img = predict_from_models(image, model1, model2, model3)\n",
        "  \n",
        "  real_img = np.zeros((512, 512, 3))\n",
        "\n",
        "  # The Loop below is used to map the class predictions, to their respective pixel predictions\n",
        "  for i in range(7):\n",
        "    a, b = np.where(output_img == i)\n",
        "    pxl = pixel_list[i]\n",
        "  \n",
        "    for j in range(len(a)):\n",
        "      real_img[a[j], b[j]] = np.asarray(pxl)\n",
        "\n",
        "  # Putting the image as output\n",
        "  st.image(real_img, clamp=True, channels='RGB', caption = 'Predicted Output')"
      ],
      "execution_count": 128,
      "outputs": [
        {
          "output_type": "stream",
          "text": [
            "Overwriting app.py\n"
          ],
          "name": "stdout"
        }
      ]
    },
    {
      "cell_type": "markdown",
      "metadata": {
        "id": "De9VgOQ_wHFV"
      },
      "source": [
        "#### **(3) Using the Ngrok toekn to expose the local host web-app to an external IP address**"
      ]
    },
    {
      "cell_type": "code",
      "metadata": {
        "id": "voZDvjoNwKTL"
      },
      "source": [
        "!ngrok authtoken ## Place Your own Authtoken recieved while signing up in ngrok##"
      ],
      "execution_count": null,
      "outputs": []
    },
    {
      "cell_type": "code",
      "metadata": {
        "id": "jUaTBxKnwKWh"
      },
      "source": [
        "# Running the model on streamlit on port 80\n",
        "!streamlit run --server.port 80 app.py &>/dev/null&"
      ],
      "execution_count": null,
      "outputs": []
    },
    {
      "cell_type": "code",
      "metadata": {
        "colab": {
          "base_uri": "https://localhost:8080/",
          "height": 35
        },
        "id": "hO7MD93mWX4X",
        "outputId": "638733bf-22a2-4bf2-93a1-3df2cfff5651"
      },
      "source": [
        "# Exposing the Port to external IP using Ngrok\n",
        "from pyngrok import ngrok\n",
        "public_url = ngrok.connect(port='80')\n",
        "public_url"
      ],
      "execution_count": 125,
      "outputs": [
        {
          "output_type": "execute_result",
          "data": {
            "application/vnd.google.colaboratory.intrinsic+json": {
              "type": "string"
            },
            "text/plain": [
              "'http://a82e1667b7af.ngrok.io'"
            ]
          },
          "metadata": {
            "tags": []
          },
          "execution_count": 125
        }
      ]
    },
    {
      "cell_type": "code",
      "metadata": {
        "id": "tFfj4vg0wBD9"
      },
      "source": [
        "# One can use this code if the number of ports requested exceeds the allowed ports in free-tier\n",
        "!killall ngrok"
      ],
      "execution_count": null,
      "outputs": []
    }
  ]
}